{
 "cells": [
  {
   "cell_type": "code",
   "execution_count": null,
   "id": "f294eb46",
   "metadata": {},
   "outputs": [],
   "source": [
    "print(\"Hello World\")"
   ]
  },
  {
   "cell_type": "code",
   "execution_count": null,
   "id": "7fa99b90",
   "metadata": {},
   "outputs": [],
   "source": [
    "first_name = (\"TOny\")"
   ]
  },
  {
   "cell_type": "code",
   "execution_count": null,
   "id": "ef03e661",
   "metadata": {},
   "outputs": [],
   "source": [
    "last_name =(\"Stark\")"
   ]
  },
  {
   "cell_type": "code",
   "execution_count": null,
   "id": "9f9a4953",
   "metadata": {},
   "outputs": [],
   "source": [
    "age=51"
   ]
  },
  {
   "cell_type": "code",
   "execution_count": null,
   "id": "7b60d51d",
   "metadata": {},
   "outputs": [],
   "source": [
    "if (age == 51):\n",
    "    print(\"Tony is a genius\")\n",
    "else:\n",
    "    print(\"oh noo , you enter the wrong age\")\n",
    "    print(\"can you change the age to 51 to make tony genius\")"
   ]
  },
  {
   "cell_type": "code",
   "execution_count": null,
   "id": "0d636e50",
   "metadata": {},
   "outputs": [],
   "source": [
    "name = input(\" please enter your name  \")"
   ]
  },
  {
   "cell_type": "code",
   "execution_count": null,
   "id": "7f47aa9c",
   "metadata": {},
   "outputs": [],
   "source": [
    "print('welcome  ' + name)"
   ]
  },
  {
   "cell_type": "code",
   "execution_count": null,
   "id": "a692a63a",
   "metadata": {},
   "outputs": [],
   "source": [
    "superhero = input(\"i know you love heros , enter your favourite superhero name \")\n",
    "print(\"oh wow \" + superhero +\" is a great superhero \" \"he is also mine favourite too\")"
   ]
  },
  {
   "cell_type": "markdown",
   "id": "1d92814e",
   "metadata": {},
   "source": [
    "## NOW WE ARE PLAYING WITH THE LISTS"
   ]
  },
  {
   "cell_type": "code",
   "execution_count": null,
   "id": "a7d0a5b4",
   "metadata": {},
   "outputs": [],
   "source": [
    "fruits = [\"Apple\",\"Mango\",\"Banana\",\"pineapple\"]"
   ]
  },
  {
   "cell_type": "code",
   "execution_count": null,
   "id": "84ea8c30",
   "metadata": {},
   "outputs": [],
   "source": [
    "print(fruits)\n",
    "type(fruits)"
   ]
  },
  {
   "cell_type": "code",
   "execution_count": null,
   "id": "db2ef287",
   "metadata": {},
   "outputs": [],
   "source": [
    "a_List = [23,\"hello\",None,3.14,fruits,3<=5]"
   ]
  },
  {
   "cell_type": "code",
   "execution_count": null,
   "id": "7c7b82a9",
   "metadata": {},
   "outputs": [],
   "source": [
    "print(a_List)"
   ]
  },
  {
   "cell_type": "code",
   "execution_count": null,
   "id": "f938a9af",
   "metadata": {},
   "outputs": [],
   "source": [
    "print(\"No of elements: \", len(fruits))"
   ]
  },
  {
   "cell_type": "code",
   "execution_count": null,
   "id": "032b319e",
   "metadata": {},
   "outputs": [],
   "source": [
    "print(\"No of elements: \", (fruits))"
   ]
  },
  {
   "cell_type": "markdown",
   "id": "64e1b100",
   "metadata": {},
   "source": [
    "## a fun code "
   ]
  },
  {
   "cell_type": "code",
   "execution_count": null,
   "id": "ac709b67",
   "metadata": {},
   "outputs": [],
   "source": [
    "print(\"hello\")"
   ]
  },
  {
   "cell_type": "code",
   "execution_count": null,
   "id": "e920a9f2",
   "metadata": {},
   "outputs": [],
   "source": [
    "string = input(\"Enter a string: \")\n",
    "print(\"Operation to perform 1.Total length , 2.Count of characters\")\n",
    "choice = input()\n",
    "if choice == '1':\n",
    "    print(len(string))\n",
    "elif choice == '2':\n",
    "    char = input(\"Enter a character\")\n",
    "    if char in string:\n",
    "        print(string.count(char))\n",
    "    else:\n",
    "        print(\"Character not available\")\n",
    "else: \n",
    "    print(\"Invalid choice\")"
   ]
  },
  {
   "cell_type": "markdown",
   "id": "4c2b9916",
   "metadata": {},
   "source": [
    "#### playing with the lists"
   ]
  },
  {
   "cell_type": "code",
   "execution_count": null,
   "id": "647f88cc",
   "metadata": {},
   "outputs": [],
   "source": [
    "list = [\"orange\",\"blueberry\",\"pineapple\",\"kiwi\"]\n",
    "print(list)"
   ]
  },
  {
   "cell_type": "code",
   "execution_count": null,
   "id": "ca4909db",
   "metadata": {},
   "outputs": [],
   "source": [
    "list.append(\"mango\")\n",
    "print(list)"
   ]
  },
  {
   "cell_type": "code",
   "execution_count": null,
   "id": "3ba7bdab",
   "metadata": {},
   "outputs": [],
   "source": [
    "list.remove(\"pineapple\")\n",
    "print(list)"
   ]
  },
  {
   "cell_type": "code",
   "execution_count": null,
   "id": "e00e4df1",
   "metadata": {},
   "outputs": [],
   "source": [
    "list.pop(2)\n",
    "print(list)"
   ]
  },
  {
   "cell_type": "markdown",
   "id": "6bfc970b",
   "metadata": {},
   "source": [
    "### concatinating two lists"
   ]
  },
  {
   "cell_type": "code",
   "execution_count": null,
   "id": "2d1df3b2",
   "metadata": {},
   "outputs": [],
   "source": [
    "more_fruits=[\"guava\",\"cheeko\",\"avacado\"]\n",
    "\n",
    "concatinating = list + more_fruits\n",
    "print(concatinating)"
   ]
  },
  {
   "cell_type": "code",
   "execution_count": null,
   "id": "746ebc2b",
   "metadata": {},
   "outputs": [],
   "source": [
    "\"pineapple\" in list"
   ]
  },
  {
   "cell_type": "code",
   "execution_count": null,
   "id": "e1d7ded5",
   "metadata": {},
   "outputs": [],
   "source": [
    "\"mango\" in concatinating"
   ]
  },
  {
   "cell_type": "code",
   "execution_count": null,
   "id": "3ffd2b9d",
   "metadata": {},
   "outputs": [],
   "source": [
    "print(more_fruits)"
   ]
  },
  {
   "cell_type": "code",
   "execution_count": null,
   "id": "c2740c5a",
   "metadata": {},
   "outputs": [],
   "source": [
    "list_of_fruits = more_fruits + [\"banana\",\"cherry\"]\n",
    "print(list_of_fruits)"
   ]
  },
  {
   "cell_type": "markdown",
   "id": "6d49a49b",
   "metadata": {},
   "source": [
    "## now with dictioneries"
   ]
  },
  {
   "cell_type": "code",
   "execution_count": null,
   "id": "f3b1ec77",
   "metadata": {},
   "outputs": [],
   "source": [
    "person1 = {\n",
    "    \"name\" : \"Zohaib\",\n",
    "    \"sex\" : \"Male\",\n",
    "    \"age\" : 23,\n",
    "    \"married\" : False\n",
    "}"
   ]
  },
  {
   "cell_type": "code",
   "execution_count": null,
   "id": "f393d481",
   "metadata": {},
   "outputs": [],
   "source": [
    "print(person1)"
   ]
  },
  {
   "cell_type": "code",
   "execution_count": null,
   "id": "edfbbc75",
   "metadata": {},
   "outputs": [],
   "source": [
    "type(person1)"
   ]
  },
  {
   "cell_type": "code",
   "execution_count": null,
   "id": "92aef185",
   "metadata": {},
   "outputs": [],
   "source": [
    "person2 = dict(\n",
    "name = \"Nisha\",\n",
    "age = 21,\n",
    "sex = \"Female\",\n",
    "married = False)\n"
   ]
  },
  {
   "cell_type": "code",
   "execution_count": null,
   "id": "32b42ce2",
   "metadata": {},
   "outputs": [],
   "source": [
    "type(person2)"
   ]
  },
  {
   "cell_type": "code",
   "execution_count": null,
   "id": "a24be5b7",
   "metadata": {},
   "outputs": [],
   "source": [
    "person2[\"name\"]"
   ]
  },
  {
   "cell_type": "code",
   "execution_count": null,
   "id": "c735bdb4",
   "metadata": {},
   "outputs": [],
   "source": [
    "person1[\"name\"]"
   ]
  },
  {
   "cell_type": "code",
   "execution_count": null,
   "id": "c44b0f75",
   "metadata": {},
   "outputs": [],
   "source": [
    "person2.get(\"address\", \"Unknown by default\")"
   ]
  },
  {
   "cell_type": "code",
   "execution_count": null,
   "id": "5ea78970",
   "metadata": {},
   "outputs": [],
   "source": [
    "person2[\"address\"] = \"1,penny lane\""
   ]
  },
  {
   "cell_type": "code",
   "execution_count": null,
   "id": "af1f6bbc",
   "metadata": {},
   "outputs": [],
   "source": [
    "print(person2)"
   ]
  },
  {
   "cell_type": "code",
   "execution_count": null,
   "id": "cb3f2715",
   "metadata": {},
   "outputs": [],
   "source": [
    "person2.get(\"address\",\"Unknown\")"
   ]
  },
  {
   "cell_type": "code",
   "execution_count": null,
   "id": "ee63ba08",
   "metadata": {},
   "outputs": [],
   "source": [
    "person2.keys()"
   ]
  },
  {
   "cell_type": "code",
   "execution_count": null,
   "id": "23f376bd",
   "metadata": {},
   "outputs": [],
   "source": [
    "person2.values()"
   ]
  },
  {
   "cell_type": "code",
   "execution_count": null,
   "id": "d3da597f",
   "metadata": {},
   "outputs": [],
   "source": [
    "person2.items()"
   ]
  },
  {
   "cell_type": "markdown",
   "id": "45d8716f",
   "metadata": {},
   "source": [
    "## Branching , Loops and Functions"
   ]
  },
  {
   "cell_type": "code",
   "execution_count": null,
   "id": "41f97948",
   "metadata": {},
   "outputs": [],
   "source": [
    "a_number = int(input(\"please enter a number to check if it is even or odd \"))\n",
    "if a_number%2 == 0:\n",
    "    print(\"We are inside an if block\")\n",
    "    print(\"The given numer is {} is even\".format(a_number))\n",
    "else:\n",
    "    print(\"The number is not a even number \")"
   ]
  },
  {
   "cell_type": "markdown",
   "id": "3b93ee50",
   "metadata": {},
   "source": [
    "a_number = int(input(\"Please enter a number: \"))\n",
    "\n",
    "if a_number % 2 == 0:\n",
    "    print(\"{} is even.\".format(a_number))\n",
    "    \n",
    "    if a_number % 3 == 0:\n",
    "        print(\"{} is divisible by 3.\".format(a_number))\n",
    "    else:\n",
    "        print(\"{} is not divisible by 3.\".format(a_number))\n",
    "else:\n",
    "    print(\"{} is odd.\".format(a_number))\n",
    "\n",
    "if a_number % 5 == 0:\n",
    "    print(\"{} is also divisible by 5.\".format(a_number))\n",
    "else:\n",
    "    print(\"{} is not divisible by 5.\".format(a_number))\n"
   ]
  },
  {
   "cell_type": "markdown",
   "id": "25c6d880",
   "metadata": {},
   "source": [
    "## iteration with while loop"
   ]
  },
  {
   "cell_type": "code",
   "execution_count": null,
   "id": "a3eef3c6",
   "metadata": {},
   "outputs": [],
   "source": [
    "%%time\n",
    "\n",
    "i = 1\n",
    "result = 1\n",
    "\n",
    "for i in range(1,101):\n",
    "    result *= i\n",
    "    i = i+1\n",
    "    \n",
    "print(\"factorial of 100 is \", result)"
   ]
  },
  {
   "cell_type": "code",
   "execution_count": null,
   "id": "f04fe8cd",
   "metadata": {},
   "outputs": [],
   "source": [
    "%%time\n",
    "\n",
    "i= 1\n",
    "result = 1\n",
    "\n",
    "while (i<=100):\n",
    "    result = result * i\n",
    "    i = i+1\n",
    "\n",
    "print (\"the factorial of 100 using while loop is \" , result)\n"
   ]
  },
  {
   "cell_type": "markdown",
   "id": "ea7b4b31",
   "metadata": {},
   "source": [
    "## loops "
   ]
  },
  {
   "cell_type": "code",
   "execution_count": null,
   "id": "d3770f6b",
   "metadata": {},
   "outputs": [],
   "source": [
    "i =  1\n",
    "result = 1\n",
    "\n",
    "while (i<=20):\n",
    "    i += 1\n",
    "    if i%2 == 0:\n",
    "        print ('Skipping {}'.format(i))\n",
    "        continue\n",
    "    print(\"multiplying with {}\".format(i))\n",
    "    result = result * i \n",
    "    \n",
    "print(\"i:\", i )\n",
    "print(\"result\",result)\n"
   ]
  },
  {
   "cell_type": "markdown",
   "id": "7d05524d",
   "metadata": {},
   "source": [
    "## iteration with for loops"
   ]
  },
  {
   "cell_type": "code",
   "execution_count": null,
   "id": "b1190c72",
   "metadata": {},
   "outputs": [],
   "source": [
    "days = ['Monday','Tuesday','Wednesday','Thursday','Friday','Saturday','Sunday']\n",
    "\n",
    "for day in days:\n",
    "    print(day)"
   ]
  },
  {
   "cell_type": "code",
   "execution_count": null,
   "id": "5dca188a",
   "metadata": {},
   "outputs": [],
   "source": [
    "for char in 'Monday':\n",
    "    print(char)"
   ]
  },
  {
   "cell_type": "code",
   "execution_count": null,
   "id": "4c198a9c",
   "metadata": {},
   "outputs": [],
   "source": [
    "#Looping over a list\n",
    "\n",
    "for fruit in ['Apple', 'Orange', 'Banana']:\n",
    "    print(\"Here is a yummy fruit \", fruit)"
   ]
  },
  {
   "cell_type": "code",
   "execution_count": null,
   "id": "81d1d7bb",
   "metadata": {},
   "outputs": [],
   "source": [
    "#looping over a dictionary\n",
    "\n",
    "person = {\n",
    "    'name' : \"Zohaib\",\n",
    "    'age' :  23,\n",
    "    'sex' : \"male\",\n",
    "    'married' : False\n",
    "}\n",
    "\n",
    "for key in person:\n",
    "    print(\"Key:\", key, \",\" , \"Value:\" , person[key])"
   ]
  },
  {
   "cell_type": "markdown",
   "id": "0b4c12a4",
   "metadata": {},
   "source": [
    "## getting pair values\n",
    "## .values() , .keys() , .items()"
   ]
  },
  {
   "cell_type": "code",
   "execution_count": null,
   "id": "4176016f",
   "metadata": {},
   "outputs": [],
   "source": [
    "for value in person.values():\n",
    "    print(value)"
   ]
  },
  {
   "cell_type": "code",
   "execution_count": null,
   "id": "d75c9d6f",
   "metadata": {},
   "outputs": [],
   "source": [
    "for key in person.keys():\n",
    "    print(key)"
   ]
  },
  {
   "cell_type": "code",
   "execution_count": null,
   "id": "ecce0d48",
   "metadata": {},
   "outputs": [],
   "source": [
    "for keyvaluepair in person.items():\n",
    "    print(keyvaluepair)"
   ]
  },
  {
   "cell_type": "markdown",
   "id": "ffddd1a4",
   "metadata": {},
   "source": [
    "## iterating using range and enumerate"
   ]
  },
  {
   "cell_type": "code",
   "execution_count": null,
   "id": "d31ebc8f",
   "metadata": {},
   "outputs": [],
   "source": [
    "for i in range (3,10):\n",
    "    print(i)"
   ]
  },
  {
   "cell_type": "code",
   "execution_count": null,
   "id": "b5782319",
   "metadata": {},
   "outputs": [],
   "source": [
    "for i in range(6):\n",
    "    print(i)"
   ]
  },
  {
   "cell_type": "code",
   "execution_count": null,
   "id": "177baf4f",
   "metadata": {},
   "outputs": [],
   "source": [
    "for i in range (0,8,2):\n",
    "    print(i)"
   ]
  },
  {
   "cell_type": "markdown",
   "id": "fae10874",
   "metadata": {},
   "source": [
    "## ranges are also used for iterating over lists"
   ]
  },
  {
   "cell_type": "code",
   "execution_count": null,
   "id": "c27ca92d",
   "metadata": {},
   "outputs": [],
   "source": [
    "a_list = [\"monday\", \"tuesday\", \"wednesday\",\"thursday\",\"friday\",\"saturday\",\"sunday\"]\n",
    "\n",
    "for i in range(len(a_list)):\n",
    "    print(\"the value at postion {} is {} \".format(i,a_list[i]))"
   ]
  },
  {
   "cell_type": "code",
   "execution_count": null,
   "id": "c05fffc7",
   "metadata": {},
   "outputs": [],
   "source": [
    "a_list = [\"monday\", \"tuesday\", \"wednesday\",\"thursday\",\"friday\",\"saturday\",\"sunday\"]\n",
    "\n",
    "for i in range(len(a_list)):\n",
    "    print(i,a_list[i])\n",
    "    "
   ]
  },
  {
   "cell_type": "code",
   "execution_count": null,
   "id": "af11ba3e",
   "metadata": {},
   "outputs": [],
   "source": [
    "weekdays = [\"monday\", \"tuesday\", \"wednesday\",\"thursday\",\"friday\",\"saturday\",\"sunday\"]\n",
    "\n",
    "for day in weekdays:\n",
    "    if (day == \"wednesday\"):\n",
    "        print(\"i dont work on wednesday\")\n",
    "        continue\n",
    "    print(\"Today is {} \".format(day))"
   ]
  },
  {
   "cell_type": "code",
   "execution_count": null,
   "id": "4cf3e775",
   "metadata": {},
   "outputs": [],
   "source": [
    "weekdays = [\"monday\", \"tuesday\", \"wednesday\",\"thursday\",\"friday\",\"saturday\",\"sunday\"]\n",
    "\n",
    "for day in weekdays:\n",
    "    if (day == \"wednesday\"):\n",
    "        print(\"\\033[1mI don't work on Wednesday\\033[0m\")\n",
    "        continue\n",
    "    print(\"\\033[1mToday is {}\\033[0m\".format(day))"
   ]
  },
  {
   "cell_type": "code",
   "execution_count": null,
   "id": "27742334",
   "metadata": {},
   "outputs": [],
   "source": [
    "weekdays = [\"Monday\",\"Tuesday\",\"Wednesday\",\"Thursday\",\"Friday\",\"Saturday\",\"Sunday\"]\n",
    "\n",
    "for days in weekdays:\n",
    "    if(days == \"Tuesday\"):\n",
    "        print(\"Today is tuesday , and its a gooday\")\n",
    "        continue\n",
    "        \n",
    "    print(\"the day is {}\".format(days))"
   ]
  },
  {
   "cell_type": "markdown",
   "id": "f7539e55",
   "metadata": {},
   "source": [
    "## nested loops to print pattern"
   ]
  },
  {
   "cell_type": "code",
   "execution_count": null,
   "id": "ead2e61c",
   "metadata": {},
   "outputs": [],
   "source": [
    "row = 7\n",
    "\n",
    "for i in range (1,row+1):\n",
    "    for j in range(1, i+1):\n",
    "        print(\"*\",end = \" \")\n",
    "    print(\" \")\n"
   ]
  },
  {
   "cell_type": "code",
   "execution_count": null,
   "id": "9d9b5311",
   "metadata": {},
   "outputs": [],
   "source": [
    "list_fruits = [\"mango\",\"apple\",\"banana\",\"orange\"]\n",
    "for list in list_fruits:\n",
    "    for i in list:\n",
    "        print(i, end=\"@\")\n",
    "    print(\"\")"
   ]
  },
  {
   "cell_type": "code",
   "execution_count": null,
   "id": "f6135308",
   "metadata": {},
   "outputs": [],
   "source": [
    "list_fruits = [\"mango\",\"apple\",\"banana\",\"orange\"]\n",
    "for list in list_fruits:\n",
    "    \n",
    "    print(\"list is \" , list)"
   ]
  },
  {
   "cell_type": "code",
   "execution_count": null,
   "id": "0c016062",
   "metadata": {},
   "outputs": [],
   "source": [
    "list_fruits = [\"mango\",\"apple\",\"banana\",\"orange\"]\n",
    "for list in list_fruits:\n",
    "    for i in list:\n",
    "        print(i, end=\" \")\n",
    "    print(\"\")"
   ]
  },
  {
   "cell_type": "code",
   "execution_count": null,
   "id": "2fefca7f",
   "metadata": {},
   "outputs": [],
   "source": [
    "color = [\"green\",\"red\",\"blue\"]\n",
    "\n",
    "items = [\"apple\",\"vegies\",\"shirt\"]\n",
    "\n",
    "for x in color:\n",
    "    for y in items:\n",
    "        print(x,y)\n",
    "        print(\" \")"
   ]
  },
  {
   "cell_type": "code",
   "execution_count": null,
   "id": "189f9f5d",
   "metadata": {},
   "outputs": [],
   "source": [
    "\n",
    "color = [\"green\",\"red\",\"blue\"]\n",
    "\n",
    "items = [\"apple\",\"vegies\",\"shirt\"]\n",
    "\n",
    "for x in items:\n",
    "    for y in color:\n",
    "    \n",
    "        print(x,y)\n",
    "        print(\" \")"
   ]
  },
  {
   "cell_type": "code",
   "execution_count": null,
   "id": "a315e672",
   "metadata": {},
   "outputs": [],
   "source": [
    "color = [\"green\",\"red\",\"blue\"]\n",
    "\n",
    "items = [\"apple\",\"vegies\",\"shirt\"]\n",
    "\n",
    "for x in color:\n",
    "    print(\"color is {}\".format(x))\n",
    "    print(\" \")\n",
    "    \n",
    "print(\" \")\n",
    "        \n",
    "    \n",
    "    \n",
    "\n",
    "for y in items:\n",
    "    print(\"item is {}\".format(x))\n",
    "    \n",
    "print(\" \")\n",
    "\n",
    "concatenate = [color + items]\n",
    "print(\"concatenate\", concatenate)"
   ]
  },
  {
   "cell_type": "code",
   "execution_count": null,
   "id": "357060c0",
   "metadata": {},
   "outputs": [],
   "source": [
    "# printing right angel triangle\n",
    "\n",
    "for i in range(11):\n",
    "    for j in range(i):\n",
    "        print(\"*\",end = \"\")\n",
    "    print(\"\")"
   ]
  },
  {
   "cell_type": "markdown",
   "id": "ec669af6",
   "metadata": {},
   "source": [
    "## now with the help of while loop"
   ]
  },
  {
   "cell_type": "code",
   "execution_count": null,
   "id": "fb4e7827",
   "metadata": {},
   "outputs": [],
   "source": [
    "i = 11\n",
    "while(i>0):\n",
    "    j = 11\n",
    "    while(j > i):\n",
    "        print(\"*\", end = \"\")\n",
    "        j = j-1\n",
    "    i = i-1\n",
    "    print()"
   ]
  },
  {
   "cell_type": "markdown",
   "id": "ad429b2e",
   "metadata": {},
   "source": [
    " ## appending two lists"
   ]
  },
  {
   "cell_type": "code",
   "execution_count": null,
   "id": "bf9006fd",
   "metadata": {},
   "outputs": [],
   "source": [
    "list1 = [10, 20, 30]\n",
    "list2 = [40, 50, 60]\n",
    "\n",
    "result = []\n",
    "\n",
    "for i in list1:\n",
    "    for j in list2:\n",
    "        result.append(i + j)\n",
    "\n",
    "print(result)\n"
   ]
  },
  {
   "cell_type": "code",
   "execution_count": null,
   "id": "f176947b",
   "metadata": {},
   "outputs": [],
   "source": [
    "list1 = [\"10\", \"20\", \"30\"]\n",
    "list2 = [\"40\", \"50\", \"60\"]\n",
    "\n",
    "result = []\n",
    "\n",
    "for i, j in zip(list1, list2):\n",
    "    result.append(int(i) + int(j))\n",
    "\n",
    "print(result)\n"
   ]
  },
  {
   "cell_type": "code",
   "execution_count": null,
   "id": "f75de551",
   "metadata": {},
   "outputs": [],
   "source": [
    "list1 = [\"10\", \"20\", \"30\"]\n",
    "list2 = [\"40\", \"50\", \"60\"]\n",
    "\n",
    "result = []\n",
    "\n",
    "for i in list1:\n",
    "    for j in list2:\n",
    "        result = (i + j)\n",
    "\n",
    "print(result)\n"
   ]
  },
  {
   "cell_type": "markdown",
   "id": "cc6875bf",
   "metadata": {},
   "source": [
    "## multiplying two lists"
   ]
  },
  {
   "cell_type": "code",
   "execution_count": null,
   "id": "a8d146c6",
   "metadata": {},
   "outputs": [],
   "source": [
    "list1  = [2,4,6]\n",
    "list2  = [2,4,6]\n",
    "\n",
    "for i in list1:\n",
    "    for j in list2:\n",
    "        if i == j: ## skipping multiplying with same number itself\n",
    "            continue\n",
    "        print(i, \"*\", j, \"=\", i*j)"
   ]
  },
  {
   "cell_type": "markdown",
   "id": "492458b3",
   "metadata": {},
   "source": [
    "## perfect number \n",
    "### first perfect number is 6 = 1+2+3 and after that 28 is a perfect number"
   ]
  },
  {
   "cell_type": "code",
   "execution_count": null,
   "id": "d93b4f7e",
   "metadata": {},
   "outputs": [],
   "source": [
    "a = 1\n",
    "while a < 100:\n",
    "    y_sum = 0\n",
    "    \n",
    "    for i in range(1, a):\n",
    "        if a % i == 0:\n",
    "            y_sum = y_sum + i\n",
    "        \n",
    "    if y_sum == a:\n",
    "        print(\"It's a perfect number {}\".format(a))\n",
    "        \n",
    "    a = a + 1\n",
    "\n"
   ]
  },
  {
   "cell_type": "code",
   "execution_count": null,
   "id": "1a59f07d",
   "metadata": {},
   "outputs": [],
   "source": [
    "for x in range (3): ## run three times \n",
    "    for num in range(1,10):\n",
    "        print(num,\"-+_\")\n",
    "    print(\" \")"
   ]
  },
  {
   "cell_type": "code",
   "execution_count": null,
   "id": "5d144b61",
   "metadata": {},
   "outputs": [],
   "source": [
    "for x in range(3):\n",
    "    for y in range(1,10):\n",
    "        print(y,end=\"\")\n",
    "    print()"
   ]
  },
  {
   "cell_type": "code",
   "execution_count": null,
   "id": "cc1decf9",
   "metadata": {},
   "outputs": [],
   "source": [
    "rows = int(input(\"enter the number of rows: \"))\n",
    "columns = int(input(\"enter the number of columns: \"))\n",
    "symbol = input(\"enter a symbol to use: \")\n",
    "\n",
    "for x in range(rows):\n",
    "    for y in range(columns):\n",
    "        print(symbol,end=\"\")\n",
    "    print()"
   ]
  },
  {
   "cell_type": "code",
   "execution_count": null,
   "id": "058a72a0",
   "metadata": {},
   "outputs": [],
   "source": [
    "i = 1\n",
    "while i<5:\n",
    "    if(i==3):\n",
    "        print(\"3 is not a good number to print\")\n",
    "    print(i)\n",
    "    i = i+1"
   ]
  },
  {
   "cell_type": "markdown",
   "id": "fb608983",
   "metadata": {},
   "source": [
    "## functions "
   ]
  },
  {
   "cell_type": "code",
   "execution_count": null,
   "id": "b16d10ad",
   "metadata": {},
   "outputs": [],
   "source": [
    "def say_hello():\n",
    "    print(\"hello there\")\n",
    "    print(\"how are you!\")\n",
    "    \n",
    "say_hello()"
   ]
  },
  {
   "cell_type": "code",
   "execution_count": null,
   "id": "4749d56c",
   "metadata": {},
   "outputs": [],
   "source": [
    "def say_hello(name):\n",
    "    print(\"hello {}!\".format(name))"
   ]
  },
  {
   "cell_type": "code",
   "execution_count": null,
   "id": "a1df5f9f",
   "metadata": {},
   "outputs": [],
   "source": [
    "say_hello(\"zohaib\")"
   ]
  },
  {
   "cell_type": "markdown",
   "id": "8f62ece1",
   "metadata": {},
   "source": [
    "## function arguments"
   ]
  },
  {
   "cell_type": "code",
   "execution_count": null,
   "id": "4f8e6ca0",
   "metadata": {},
   "outputs": [],
   "source": [
    "def filter_even(number_list):\n",
    "    result_list = []\n",
    "    for number in number_list:\n",
    "        if number % 2 == 0:\n",
    "            result_list.append(number)\n",
    "    return result_list"
   ]
  },
  {
   "cell_type": "code",
   "execution_count": null,
   "id": "6c677b0d",
   "metadata": {},
   "outputs": [],
   "source": [
    "even_list = filter_even([1,2,3,4,5,6,7,8,9])\n"
   ]
  },
  {
   "cell_type": "code",
   "execution_count": null,
   "id": "237e0401",
   "metadata": {},
   "outputs": [],
   "source": [
    "even_list"
   ]
  },
  {
   "cell_type": "code",
   "execution_count": null,
   "id": "c3de6562",
   "metadata": {},
   "outputs": [],
   "source": [
    "odd_list = filter_even([1,3,5,7,9])\n",
    "\n",
    "odd_list \n",
    "# there is no even in the list so thats why its a empty list"
   ]
  },
  {
   "cell_type": "markdown",
   "id": "8ed2a90f",
   "metadata": {},
   "source": [
    "### writing great functions in python"
   ]
  },
  {
   "cell_type": "code",
   "execution_count": null,
   "id": "58afb1a6",
   "metadata": {},
   "outputs": [],
   "source": [
    "def function1(first_name):\n",
    "    print(\"hi its function1 running \")\n",
    "    \n",
    "def function1(first_name,last_name):\n",
    "    print(f\"its second function  { first_name} and {last_name}\")\n",
    "\n",
    "\n",
    "\n",
    "function1(\"zohaib\",\"khan\")"
   ]
  },
  {
   "cell_type": "code",
   "execution_count": null,
   "id": "80e9892c",
   "metadata": {},
   "outputs": [],
   "source": [
    "\n",
    "def increment(number,by= 3):\n",
    "    return number + by \n",
    "\n",
    "\n",
    "increment(2, by= 13)"
   ]
  },
  {
   "cell_type": "code",
   "execution_count": null,
   "id": "8ca7eaac",
   "metadata": {},
   "outputs": [],
   "source": [
    "# [list]\n",
    "#(tuple)\n",
    "\n",
    "\n",
    "\n",
    "def multiply(*numbers):\n",
    "    total = 1\n",
    "    for number in numbers:\n",
    "        total = total * number\n",
    "        print(number)\n",
    "    return total\n",
    "        \n",
    "#     print(numbers)\n",
    "    \n",
    "multiply(2,3,4,5)"
   ]
  },
  {
   "cell_type": "code",
   "execution_count": null,
   "id": "580bb7af",
   "metadata": {},
   "outputs": [],
   "source": [
    "def save_users(**users):\n",
    "    print(users[\"name\"])\n",
    "    \n",
    "save_users(id=1,name=\"john\",age=22)"
   ]
  },
  {
   "cell_type": "markdown",
   "id": "f7a5c91c",
   "metadata": {},
   "source": [
    "### FizzBuzz problem"
   ]
  },
  {
   "cell_type": "code",
   "execution_count": null,
   "id": "4faf7032",
   "metadata": {},
   "outputs": [],
   "source": [
    "def fizz_buzz(input):\n",
    "    if input % 3 ==0 and input % 5 == 0:\n",
    "        return \"FizzBuzz\"\n",
    "    if input % 3 == 0:\n",
    "        return \"Fizz\"\n",
    "    if input % 5 == 0:\n",
    "        return \"Buzz\"\n",
    "    else:\n",
    "        return input\n",
    "    \n",
    "print(fizz_buzz(15))"
   ]
  },
  {
   "cell_type": "markdown",
   "id": "68466810",
   "metadata": {},
   "source": [
    "## Quadratic Equation"
   ]
  },
  {
   "cell_type": "markdown",
   "id": "570df69f",
   "metadata": {},
   "source": [
    "### -b + cmath.sqrt(b^2 - 4ac) / 2a"
   ]
  },
  {
   "cell_type": "code",
   "execution_count": null,
   "id": "82f8287d",
   "metadata": {},
   "outputs": [],
   "source": [
    "import cmath"
   ]
  },
  {
   "cell_type": "code",
   "execution_count": null,
   "id": "2ca1b933",
   "metadata": {},
   "outputs": [],
   "source": [
    "a = int(input(\"Enter a (a! = 0 )\"))\n",
    "b = int(input(\"Enter b \"))\n",
    "c = int(input(\"Enter c \"))\n",
    "\n",
    "# finding discriminant\n",
    "\n",
    "d = (b**2) - (4*a*c)\n",
    "\n",
    "print(\"\\n\")\n",
    "print(f\"Results for equation, {a}x**2 + b{x} + {c} = 0, are :- \\n\")\n",
    "\n",
    "sol1 = -b - cmath.sqrt((d))/(2*a)\n",
    "sol2 = -b + cmath.sqrt((d))/(2*a)\n",
    "\n",
    "if d>0:\n",
    "    print(\"Types of roots : Two distinct real roots\")\n",
    "elif d==0:\n",
    "    print(\"Types of roots : Two equal real roots\")\n",
    "elif d<0:\n",
    "    print(\"Types of roots : Two complex roots\")\n",
    "    \n",
    "print(f\"The solutions are {sol1} and {sol2}\")\n"
   ]
  },
  {
   "cell_type": "markdown",
   "id": "13684568",
   "metadata": {},
   "source": [
    "## Named Arguments"
   ]
  },
  {
   "cell_type": "code",
   "execution_count": null,
   "id": "a6ef0f18",
   "metadata": {},
   "outputs": [],
   "source": [
    "def my_fun(location, name, msg):\n",
    "    print(name+\"\\n\"+location +msg)\n",
    "\n",
    "my_fun(msg =  \" hello \",name = \" Zohaib \" , location = \" lahore \")\n"
   ]
  },
  {
   "cell_type": "markdown",
   "id": "17354624",
   "metadata": {},
   "source": [
    "## Try and Except"
   ]
  },
  {
   "cell_type": "code",
   "execution_count": null,
   "id": "f32c64c2",
   "metadata": {},
   "outputs": [],
   "source": [
    "try:\n",
    "    print(\"Now compiling the result\")\n",
    "    result = 5 / 2  # This is a valid division operation\n",
    "    print(\"Computation was successfully complete\")\n",
    "\n",
    "except ZeroDivisionError:\n",
    "    print(\"Failed to compute the result because you were trying to divide by zero\")\n",
    "    result = None\n",
    "    \n",
    "print(result)  # This will print the result of the division (2.5)\n"
   ]
  },
  {
   "cell_type": "code",
   "execution_count": null,
   "id": "1f0edce7",
   "metadata": {},
   "outputs": [],
   "source": [
    "print(\"hello\")"
   ]
  },
  {
   "cell_type": "markdown",
   "id": "d289ad2f",
   "metadata": {},
   "source": [
    "## DocStrings"
   ]
  },
  {
   "cell_type": "code",
   "execution_count": null,
   "id": "bfe34c68",
   "metadata": {},
   "outputs": [],
   "source": [
    "def add_numbers(a,b):\n",
    "    ''' Takes two parameters and \n",
    "    return sum '''\n",
    "    \n",
    "    return a+b\n",
    "\n",
    "print(add_numbers(5,10))\n",
    "\n",
    "print(add_numbers.__doc__)\n",
    "\n"
   ]
  },
  {
   "cell_type": "markdown",
   "id": "82dfd3fa",
   "metadata": {},
   "source": [
    "## Multiple return statement"
   ]
  },
  {
   "cell_type": "markdown",
   "id": "184e5fec",
   "metadata": {},
   "source": [
    "### if you doesnt return anything then it returns None by default"
   ]
  },
  {
   "cell_type": "code",
   "execution_count": null,
   "id": "058b527b",
   "metadata": {},
   "outputs": [],
   "source": [
    "def add(a,b):\n",
    "    sum1 = a+b\n",
    "    sum = a-b\n",
    "\n",
    "    return sum1,sum\n",
    "\n",
    "result = add(2,3)\n",
    "print(result)\n",
    "print(type(result))\n",
    "\n",
    "\n",
    "\n",
    "def demo():\n",
    "    '''It can also return lists, dictionaries, tuple etc\n",
    "       ***** This is a docstring *****'''\n",
    "    return \"hello\"\n",
    "\n",
    "print(\"demo returns: \" , demo())\n",
    "\n",
    "print(demo.__doc__)\n"
   ]
  },
  {
   "cell_type": "code",
   "execution_count": null,
   "id": "379f13a9",
   "metadata": {},
   "outputs": [],
   "source": [
    "def loan_emi(amount):\n",
    "    return amount/12\n",
    "\n",
    "loan_emi(100)\n",
    "print(loan_emi(100))"
   ]
  },
  {
   "cell_type": "markdown",
   "id": "a0c0a86c",
   "metadata": {},
   "source": [
    "## sqrt using exponention"
   ]
  },
  {
   "cell_type": "code",
   "execution_count": null,
   "id": "15b0e97c",
   "metadata": {},
   "outputs": [],
   "source": [
    "num = 64\n",
    "num1 = int(input(\"Enter a number \"))\n",
    "sr = num1 ** (1/2)\n",
    "\n",
    "print(\"the sqrt of the number is \",sr )"
   ]
  },
  {
   "cell_type": "code",
   "execution_count": null,
   "id": "342c80ac",
   "metadata": {},
   "outputs": [],
   "source": [
    "import math\n",
    "num1 = int(input(\"Enter a number \"))\n",
    "sr = math.sqrt(num1)\n",
    "\n",
    "print(\"the sqrt of the number is \",sr )"
   ]
  },
  {
   "cell_type": "code",
   "execution_count": null,
   "id": "d0deda7f",
   "metadata": {},
   "outputs": [],
   "source": [
    "#swaping two numbers\n",
    "\n",
    "x=12\n",
    "y=13\n",
    "\n",
    "x,y = y,x\n",
    "print(f\"Now values of x is {x} and y is {y}\")"
   ]
  },
  {
   "cell_type": "code",
   "execution_count": null,
   "id": "ac68e536",
   "metadata": {},
   "outputs": [],
   "source": [
    "# km to miles\n",
    "\n",
    "km =  float(input(\"Enter your values in km\"))\n",
    "miles = (0.621371) * km\n",
    "\n",
    "print (\" in miles it is \", miles)"
   ]
  },
  {
   "cell_type": "markdown",
   "id": "9647cbe8",
   "metadata": {},
   "source": [
    "# leap year "
   ]
  },
  {
   "cell_type": "code",
   "execution_count": null,
   "id": "5a508075",
   "metadata": {},
   "outputs": [],
   "source": [
    "year =  int(input(\"Enter the year\"))\n",
    "\n",
    "if (year % 400) ==  0 and (year % 100) == 0:\n",
    "    print(\"it is a leap year\")\n",
    "elif (year %4) == 0 and (year % 100)!= 0:\n",
    "    print(\"it is a leap year\")\n",
    "else:\n",
    "    print(year ,\"not a leap year\")"
   ]
  },
  {
   "cell_type": "markdown",
   "id": "1be2a236",
   "metadata": {},
   "source": [
    "# Python code to find the second largest number in a list"
   ]
  },
  {
   "cell_type": "code",
   "execution_count": null,
   "id": "e41a1c28",
   "metadata": {},
   "outputs": [],
   "source": [
    "list_of_numbers = [5, 10, 2, 4, 6, 7, 9]\n",
    "\n",
    "# Sort the list in descending order and create a sorted copy\n",
    "sorted_list = sorted(list_of_numbers, reverse=True)\n",
    "\n",
    "if len(sorted_list) > 1:\n",
    "    second_largest = sorted_list[1]\n",
    "    print(second_largest)\n",
    "else:\n",
    "    print(\"The list doesn't have a second largest element.\")\n"
   ]
  },
  {
   "cell_type": "markdown",
   "id": "b48552be",
   "metadata": {},
   "source": [
    "# prime numbers`````"
   ]
  },
  {
   "cell_type": "code",
   "execution_count": null,
   "id": "e1f98794",
   "metadata": {},
   "outputs": [],
   "source": [
    "num = int(input(\"Enter a number \"))\n",
    "\n",
    "if num == 1:\n",
    "    print(\"Not a prime number \")\n",
    "if num > 1:\n",
    "    for i in range (2, num):\n",
    "        if num % i == 0:\n",
    "            print(\"Number is not a prime\")\n",
    "            break\n",
    "    else :\n",
    "            print(\"its a prime number\")\n",
    "    "
   ]
  },
  {
   "cell_type": "code",
   "execution_count": null,
   "id": "773349a2",
   "metadata": {},
   "outputs": [],
   "source": [
    "# random number\n",
    "\n",
    "import random \n",
    "\n",
    "num = random.randint(0,10)\n",
    "print(num)"
   ]
  },
  {
   "cell_type": "markdown",
   "id": "94b0f8de",
   "metadata": {},
   "source": [
    "# prime numbers in a particular range "
   ]
  },
  {
   "cell_type": "code",
   "execution_count": null,
   "id": "93f2e9bf",
   "metadata": {},
   "outputs": [],
   "source": [
    "lower = int(input(\"Enter the lower range\"))\n",
    "upper = int(input(\"Enter the upper range\"))\n",
    "\n",
    "for num in range (lower, upper+1):\n",
    "    if num >1:\n",
    "        for i in range (2,num):\n",
    "            if num % i == 0:\n",
    "                break\n",
    "        else :\n",
    "            print(\"prime numbers are:\" , num)"
   ]
  },
  {
   "cell_type": "markdown",
   "id": "d3a3a652",
   "metadata": {},
   "source": [
    "## factorial of a number"
   ]
  },
  {
   "cell_type": "code",
   "execution_count": null,
   "id": "6b15ddce",
   "metadata": {},
   "outputs": [],
   "source": [
    "num =  int(input(\"Enter a number \"))\n",
    "\n",
    "fact = 1\n",
    "\n",
    "if num < 0 :\n",
    "    print(\"not possible\")\n",
    "if num == 0:\n",
    "    print(\"its factorial is \" , 1)\n",
    "    \n",
    "if num > 0:\n",
    "    for i in range (1, num+1):\n",
    "        fact =  fact * i\n",
    "    \n",
    "print(f\"The factorial of the number is {fact}\")\n",
    "    "
   ]
  },
  {
   "cell_type": "markdown",
   "id": "a6e0a35a",
   "metadata": {},
   "source": [
    "# Second method using recursion"
   ]
  },
  {
   "cell_type": "code",
   "execution_count": null,
   "id": "6214c110",
   "metadata": {},
   "outputs": [],
   "source": [
    "def fact(a):\n",
    "    if a == 0:\n",
    "        return 1\n",
    "    else:\n",
    "        factorial = 1\n",
    "        for i in range(1, a + 1):\n",
    "            factorial *= i\n",
    "        return factorial\n",
    "\n",
    "num = int(input(\"Enter a number here: \"))\n",
    "\n",
    "result = fact(num)\n",
    "print(f\"The factorial of {num} is: {result}\")\n"
   ]
  },
  {
   "cell_type": "markdown",
   "id": "95d1f976",
   "metadata": {},
   "source": [
    "# printing a table "
   ]
  },
  {
   "cell_type": "code",
   "execution_count": null,
   "id": "9b8bcdd1",
   "metadata": {},
   "outputs": [],
   "source": [
    "num =  int(input(\"Enter a number \"))\n",
    "print(\"\\n\")\n",
    "\n",
    "for i in range (1,11):\n",
    "    print(num,\" x \",i,\" = \",num*i)"
   ]
  },
  {
   "cell_type": "markdown",
   "id": "204b0c39",
   "metadata": {},
   "source": [
    "## Fibonacci Series"
   ]
  },
  {
   "cell_type": "code",
   "execution_count": null,
   "id": "52168f32",
   "metadata": {},
   "outputs": [],
   "source": [
    "a= 0\n",
    "b= 1\n",
    "\n",
    "num =  int(input(\"Enter a number here: \"))\n",
    "print(\"\\n\")\n",
    "\n",
    "\n",
    "if num == 1:\n",
    "    print(a)\n",
    "else:\n",
    "    print(a)\n",
    "    print(b)\n",
    "    for i in range(1,num+1):\n",
    "        c = a+b\n",
    "        a = b\n",
    "        b = c\n",
    "        print(c)"
   ]
  },
  {
   "cell_type": "markdown",
   "id": "ad11ba19",
   "metadata": {},
   "source": [
    "# using recursion"
   ]
  },
  {
   "cell_type": "code",
   "execution_count": 45,
   "id": "a4e176ae",
   "metadata": {},
   "outputs": [
    {
     "ename": "IndentationError",
     "evalue": "unexpected indent (4149718877.py, line 7)",
     "output_type": "error",
     "traceback": [
      "\u001b[1;36m  Cell \u001b[1;32mIn[45], line 7\u001b[1;36m\u001b[0m\n\u001b[1;33m    if n <0:\u001b[0m\n\u001b[1;37m    ^\u001b[0m\n\u001b[1;31mIndentationError\u001b[0m\u001b[1;31m:\u001b[0m unexpected indent\n"
     ]
    }
   ],
   "source": [
    "def fibo(n):\n",
    "    if n <= 1:\n",
    "        return n\n",
    "    else:\n",
    "        return fibo(n-1)+fibo(n-2)\n",
    "    \n",
    "    \n",
    "n = int(input(\"Enter a number here : \"))\n",
    "    if n <0:\n",
    "\n",
    "        print(\"Enter a positive number\")\n",
    "    else:\n",
    "        print(\"Fibonaaci Series\")\n",
    "        for i in range (n):\n",
    "            print(fibo(i))\n",
    "    "
   ]
  },
  {
   "cell_type": "markdown",
   "id": "6f93d6d2",
   "metadata": {},
   "source": [
    "# armstrong number"
   ]
  },
  {
   "cell_type": "code",
   "execution_count": 10,
   "id": "c68745d4",
   "metadata": {},
   "outputs": [
    {
     "name": "stdout",
     "output_type": "stream",
     "text": [
      "Enter the lower range: 100\n",
      "Enter the upper range: 1000\n",
      "\n",
      "Armstrong numbers in the given range:\n",
      "153\n",
      "370\n",
      "371\n",
      "407\n"
     ]
    }
   ],
   "source": [
    "lower = int(input(\"Enter the lower range: \"))\n",
    "upper = int(input(\"Enter the upper range: \"))\n",
    "\n",
    "print(\"\\nArmstrong numbers in the given range:\")\n",
    "for num in range(lower, upper + 1):\n",
    "    order = len(str(num))\n",
    "    sum = 0\n",
    "    temp = num\n",
    "    while temp > 0:\n",
    "        digit = temp % 10\n",
    "        cube = digit ** order\n",
    "        sum = sum + cube\n",
    "        temp //= 10  # Integer division to eliminate the last digit (153 -> 15)\n",
    "\n",
    "    if sum == num:\n",
    "        print(num)\n"
   ]
  },
  {
   "cell_type": "markdown",
   "id": "d4b3a245",
   "metadata": {},
   "source": [
    "# Sum of natural numbers"
   ]
  },
  {
   "cell_type": "code",
   "execution_count": 12,
   "id": "0adeb061",
   "metadata": {},
   "outputs": [
    {
     "name": "stdout",
     "output_type": "stream",
     "text": [
      "Enter a number here: 5\n",
      "\n",
      "\n",
      "THE SUM OF POSITIVE INTEGERS IS 15\n"
     ]
    }
   ],
   "source": [
    "num =  int(input(\"Enter a number here: \"))\n",
    "print(\"\\n\")\n",
    "\n",
    "if num < 0:\n",
    "    print(\"plz enter a positive integer\")\n",
    "\n",
    "sum = 0\n",
    "while (num > 0 ):\n",
    "    sum = sum + num  ## 5 + 4 + 3 + 2 + 1  => 15\n",
    "    num -=1\n",
    "    \n",
    "print(f\"THE SUM OF POSITIVE INTEGERS IS {sum}\")"
   ]
  },
  {
   "cell_type": "markdown",
   "id": "21b87fa9",
   "metadata": {},
   "source": [
    "# conversion of numbers in binary, oct , hexadecimal"
   ]
  },
  {
   "cell_type": "code",
   "execution_count": 14,
   "id": "74851092",
   "metadata": {},
   "outputs": [
    {
     "name": "stdout",
     "output_type": "stream",
     "text": [
      "Enter a number here: 12\n",
      "the conversion of the decimal number  12 is \n",
      "0b1100 in binary\n",
      "0o14 in octal\n",
      "0xc in hexadecimal\n"
     ]
    }
   ],
   "source": [
    "decimal = int(input(\"Enter a number here: \"))\n",
    "print (\"the conversion of the decimal number \" , decimal , \"is \")\n",
    "print (bin(decimal), \"in binary\")\n",
    "print (oct(decimal), \"in octal\")\n",
    "print (hex(decimal), \"in hexadecimal\")\n"
   ]
  },
  {
   "cell_type": "markdown",
   "id": "2f753f4c",
   "metadata": {},
   "source": [
    "# ASCII values of character"
   ]
  },
  {
   "cell_type": "code",
   "execution_count": 21,
   "id": "cb278595",
   "metadata": {},
   "outputs": [
    {
     "name": "stdout",
     "output_type": "stream",
     "text": [
      "The ASCII value of char  H is  72\n"
     ]
    }
   ],
   "source": [
    "char = \"H\"\n",
    "print(\"The ASCII value of char \", char,\"is \",ord(char))"
   ]
  },
  {
   "cell_type": "markdown",
   "id": "884b3186",
   "metadata": {},
   "source": [
    "# Finding HCF from two numbers "
   ]
  },
  {
   "cell_type": "code",
   "execution_count": 26,
   "id": "5174d801",
   "metadata": {},
   "outputs": [
    {
     "name": "stdout",
     "output_type": "stream",
     "text": [
      "The HCF of the two given numbers is  6\n"
     ]
    }
   ],
   "source": [
    "def findHcf(x,y):\n",
    "    if x>y:\n",
    "        smaller = y\n",
    "    else:\n",
    "        smaller = x\n",
    "        \n",
    "    for i in range (1,smaller + 1):\n",
    "        if ((x%i == 0)and (y%i == 0)):\n",
    "            hcf  = i\n",
    "    return hcf\n",
    "\n",
    "print(\"The HCF of the two given numbers is \",findHcf(12,30))"
   ]
  },
  {
   "cell_type": "markdown",
   "id": "9b90595c",
   "metadata": {},
   "source": [
    "# factors of a number"
   ]
  },
  {
   "cell_type": "code",
   "execution_count": 31,
   "id": "ba7b0b1a",
   "metadata": {},
   "outputs": [
    {
     "name": "stdout",
     "output_type": "stream",
     "text": [
      "Enter a number here: 23\n",
      "\n",
      "\n",
      "1\n",
      "23\n"
     ]
    }
   ],
   "source": [
    "num =  int(input(\"Enter a number here: \"))\n",
    "print(\"\\n\")\n",
    "\n",
    "for i in range (1, num + 1):\n",
    "    if num % i == 0:\n",
    "        print (i)\n",
    "\n"
   ]
  },
  {
   "cell_type": "markdown",
   "id": "f3f6380e",
   "metadata": {},
   "source": [
    "# Display calender"
   ]
  },
  {
   "cell_type": "code",
   "execution_count": 34,
   "id": "bd028d3c",
   "metadata": {},
   "outputs": [
    {
     "name": "stdout",
     "output_type": "stream",
     "text": [
      "Enter year  here: 1997\n",
      "Enter a month here: 10\n",
      "    October 1997\n",
      "Mo Tu We Th Fr Sa Su\n",
      "       1  2  3  4  5\n",
      " 6  7  8  9 10 11 12\n",
      "13 14 15 16 17 18 19\n",
      "20 21 22 23 24 25 26\n",
      "27 28 29 30 31\n",
      "\n"
     ]
    }
   ],
   "source": [
    "import calendar\n",
    "\n",
    "year =int(input(\"Enter year  here: \"))\n",
    "month =int(input(\"Enter a month here: \"))\n",
    "\n",
    "calender = calendar.month(year,month)\n",
    "\n",
    "print(calender)"
   ]
  },
  {
   "cell_type": "markdown",
   "id": "e87ca47e",
   "metadata": {},
   "source": [
    "# sum of natural numbers using recurrsion\n"
   ]
  },
  {
   "cell_type": "code",
   "execution_count": 6,
   "id": "6e5a9011",
   "metadata": {},
   "outputs": [
    {
     "name": "stdout",
     "output_type": "stream",
     "text": [
      "Enter a number: 3\n",
      "the sum of the natural numbers is  6\n"
     ]
    }
   ],
   "source": [
    "def NNS(n):\n",
    "    if n <= 1:\n",
    "        return n\n",
    "    else:\n",
    "        return (n) + NNS(n-1)\n",
    "\n",
    "n =int(input(\"Enter a number: \"))\n",
    "\n",
    "if n <= 0 :\n",
    "        print(\"enter a positive number  \")\n",
    "else:\n",
    "        print (\"the sum of the natural numbers is \",NNS(n))"
   ]
  },
  {
   "cell_type": "markdown",
   "id": "f279528d",
   "metadata": {},
   "source": [
    "# Convert Decimal to Binary Using Recursion"
   ]
  },
  {
   "cell_type": "code",
   "execution_count": 8,
   "id": "fde99b3f",
   "metadata": {},
   "outputs": [
    {
     "name": "stdout",
     "output_type": "stream",
     "text": [
      "1\n",
      "0\n",
      "1\n",
      "1\n",
      "1\n"
     ]
    }
   ],
   "source": [
    "def convertBinary(n):\n",
    "    if n> 1:\n",
    "        convertBinary(n//2) #float Division\n",
    "    print(n%2)\n",
    "    \n",
    "convertBinary(23)"
   ]
  },
  {
   "cell_type": "markdown",
   "id": "3dea17e3",
   "metadata": {},
   "source": [
    "# Add Two Matrices"
   ]
  },
  {
   "cell_type": "code",
   "execution_count": 10,
   "id": "ed8a0d56",
   "metadata": {},
   "outputs": [
    {
     "name": "stdout",
     "output_type": "stream",
     "text": [
      "[5, 10, 14]\n",
      "[12, 15, 8]\n",
      "[10, 7, 9]\n"
     ]
    }
   ],
   "source": [
    "A = [[1,5,8],\n",
    "     [4,6,7],\n",
    "     [7,2,3]]\n",
    "\n",
    "B = [[4,5,6],\n",
    "     [8,9,1],\n",
    "     [3,5,6]]\n",
    "\n",
    "result =[[0,0,0],\n",
    "     [0,0,0],\n",
    "     [0,0,0]]\n",
    "\n",
    "for i in range(len(A)):\n",
    "    for j in range(len(A[0])):\n",
    "        result[i][j]  = A[i][j] + B[i][j]\n",
    "        \n",
    "# print (result)  prints in a single row\n",
    "\n",
    "for r in result:\n",
    "    print(r)"
   ]
  },
  {
   "cell_type": "markdown",
   "id": "3be4c442",
   "metadata": {},
   "source": [
    "# Transpose a Matrix"
   ]
  },
  {
   "cell_type": "code",
   "execution_count": 14,
   "id": "fd48e29a",
   "metadata": {},
   "outputs": [
    {
     "name": "stdout",
     "output_type": "stream",
     "text": [
      "[1, 4]\n",
      "[2, 5]\n",
      "[3, 6]\n"
     ]
    }
   ],
   "source": [
    "A = [[1,2,3],\n",
    "     [4,5,6]]\n",
    "\n",
    "T = [[0,0],\n",
    "     [0,0],\n",
    "     [0,0]]\n",
    "\n",
    "for i in range (len(A)):\n",
    "    for j in range (len(A[0])):\n",
    "        T[j][i] = A[i][j]\n",
    "        \n",
    "for i in T:\n",
    "    print(i)"
   ]
  },
  {
   "cell_type": "markdown",
   "id": "c9c946aa",
   "metadata": {},
   "source": [
    "# Now with the comprehension"
   ]
  },
  {
   "cell_type": "code",
   "execution_count": 20,
   "id": "a65b692e",
   "metadata": {},
   "outputs": [
    {
     "name": "stdout",
     "output_type": "stream",
     "text": [
      "[1, 4]\n",
      "[2, 5]\n",
      "[3, 6]\n"
     ]
    }
   ],
   "source": [
    "A = [[1, 2, 3],\n",
    "     [4, 5, 6]]\n",
    "\n",
    "# Transpose A into T\n",
    "T = [[A[j][i] for j in range(len(A))] for i in range(len(A[0]))]\n",
    "\n",
    "for i in T:\n",
    "    print(i)"
   ]
  },
  {
   "cell_type": "markdown",
   "id": "c2756eee",
   "metadata": {},
   "source": [
    "# check pallindrome"
   ]
  },
  {
   "cell_type": "code",
   "execution_count": 26,
   "id": "044dba40",
   "metadata": {},
   "outputs": [
    {
     "name": "stdout",
     "output_type": "stream",
     "text": [
      "Enter a word: madam\n",
      "its a pallindrome\n"
     ]
    }
   ],
   "source": [
    "a = input(\"Enter a word: \")\n",
    "\n",
    "rev = a[::-1]\n",
    "\n",
    "if a == rev:\n",
    "    print(\"its a pallindrome\")\n",
    "else:\n",
    "    print(\"its not a pallindrome\")"
   ]
  },
  {
   "cell_type": "markdown",
   "id": "5a1f4b89",
   "metadata": {},
   "source": [
    "# Remove Punctuations From a String"
   ]
  },
  {
   "cell_type": "code",
   "execution_count": 31,
   "id": "c7235946",
   "metadata": {},
   "outputs": [
    {
     "name": "stdout",
     "output_type": "stream",
     "text": [
      "input a string (hello){} Zohaib{)>:\n",
      "hello Zohaib\n"
     ]
    }
   ],
   "source": [
    "punc = '''<>\\|/*.,:;(_){}?@#$%^'''\n",
    "\n",
    "string = input(\"input a string \")\n",
    "\n",
    "emptyString = \"\"\n",
    "\n",
    "for i in string:\n",
    "    if i not in punc:\n",
    "        emptyString = emptyString + i\n",
    "    \n",
    "\n",
    "print(emptyString)"
   ]
  },
  {
   "cell_type": "markdown",
   "id": "5d3fba5e",
   "metadata": {},
   "source": [
    "# Multiply Two Matrices"
   ]
  },
  {
   "cell_type": "code",
   "execution_count": 33,
   "id": "d7ca6b2d",
   "metadata": {},
   "outputs": [
    {
     "name": "stdout",
     "output_type": "stream",
     "text": [
      "[27, 15, 15, 8]\n",
      "[60, 36, 33, 20]\n",
      "[93, 57, 51, 32]\n"
     ]
    }
   ],
   "source": [
    "A = [[1, 2, 3],\n",
    "     [4, 5, 6],\n",
    "     [7, 8, 9]]\n",
    "\n",
    "B = [[1,2,1,1],\n",
    "     [4,2,1,2],\n",
    "     [6,3,4,1]]\n",
    "\n",
    "result = [[0,0,0,0],\n",
    "          [0,0,0,0],\n",
    "          [0,0,0,0]]\n",
    "\n",
    "\n",
    "for i in range (len(A)):\n",
    "    for j in range (len(B[0])):\n",
    "        for k in range (len(B)):\n",
    "            result[i][j] += A[i][k] * B[k][j]\n",
    "            \n",
    "for i in result:\n",
    "    print(i)\n"
   ]
  },
  {
   "cell_type": "markdown",
   "id": "f26a6220",
   "metadata": {},
   "source": [
    "#  Sort Words in Alphabetic Order (A B C)"
   ]
  },
  {
   "cell_type": "code",
   "execution_count": 44,
   "id": "d55a209d",
   "metadata": {},
   "outputs": [
    {
     "name": "stdout",
     "output_type": "stream",
     "text": [
      "Enter a string to  Sort Words in Alphabetic Order (A B C) Harry Potter And The GOblet OF Fire\n",
      "['Harry', 'Potter', 'And', 'The', 'GOblet', 'OF', 'Fire']\n",
      "['harry', 'potter', 'and', 'the', 'goblet', 'of', 'fire']\n",
      "['and', 'fire', 'goblet', 'harry', 'of', 'potter', 'the']\n",
      "and\n",
      "fire\n",
      "goblet\n",
      "harry\n",
      "of\n",
      "potter\n",
      "the\n"
     ]
    }
   ],
   "source": [
    "a = input(\"Enter a string to  Sort Words in Alphabetic Order (A B C) \")\n",
    "\n",
    "w = a.split()\n",
    "print (w)\n",
    "\n",
    "for i in range (len(w)):\n",
    "    w[i] = w[i].lower()\n",
    "    \n",
    "print(w)\n",
    "\n",
    "w.sort()\n",
    "print(w)\n",
    "\n",
    "for i in w:\n",
    "    print(i)"
   ]
  },
  {
   "cell_type": "markdown",
   "id": "d1bb0ff2",
   "metadata": {},
   "source": [
    "#  Illustrate Different Set Operations"
   ]
  },
  {
   "cell_type": "code",
   "execution_count": 49,
   "id": "b51ad7d3",
   "metadata": {},
   "outputs": [
    {
     "name": "stdout",
     "output_type": "stream",
     "text": [
      "the union is  {1, 2, 3, 4, 5, 6, 7, 8, 9}\n",
      "the intersection is  {8, 3, 6}\n",
      "the difference is  {1, 2, 9}\n",
      "The symmetric difference is  {1, 2, 4, 5, 7, 9}\n"
     ]
    }
   ],
   "source": [
    "A = {1,2,3,6,8,9}\n",
    "B = {3,4,5,6,7,8}\n",
    "\n",
    "print(\"the union is \",A | B)\n",
    "print(\"the intersection is \" , A & B)\n",
    "print(\"the difference is \",A-B)\n",
    "print(\"The symmetric difference is \",A^B)"
   ]
  },
  {
   "cell_type": "markdown",
   "id": "8f32362d",
   "metadata": {},
   "source": [
    "# Count the Number of Each Vowel"
   ]
  },
  {
   "cell_type": "code",
   "execution_count": 55,
   "id": "1e0f46aa",
   "metadata": {},
   "outputs": [
    {
     "name": "stdout",
     "output_type": "stream",
     "text": [
      "Vowels found: aeioai\n"
     ]
    }
   ],
   "source": [
    "string = \"my name is zohaib\"\n",
    "vowels = \"aeiou\"\n",
    "empty = \"\"\n",
    "\n",
    "for char in string:\n",
    "    if char in vowels:\n",
    "        empty += char  # Append the vowel to the 'empty' string\n",
    "\n",
    "if empty:\n",
    "    print(\"Vowels found:\", empty)\n",
    "else:\n",
    "    print(\"No vowels found\")\n"
   ]
  },
  {
   "cell_type": "code",
   "execution_count": 69,
   "id": "6d6bddc5",
   "metadata": {},
   "outputs": [
    {
     "name": "stdout",
     "output_type": "stream",
     "text": [
      "my name is zohaib\n",
      "{'a': 17, 'e': 17, 'i': 17, 'o': 17, 'u': 17}\n"
     ]
    }
   ],
   "source": [
    "# using Dictionaries \n",
    "\n",
    "a = \"my name is zohaib\"\n",
    "vowels = \"aeiou\"\n",
    "a = a.casefold()\n",
    "print(a)\n",
    "\n",
    "count = {}.fromkeys(vowels,0) # created a dictionary \n",
    "for char in a :\n",
    "    for char in count:\n",
    "        count[char] += 1\n",
    "        \n",
    "        \n",
    "print(count)"
   ]
  },
  {
   "cell_type": "markdown",
   "id": "b869d654",
   "metadata": {},
   "source": [
    "# Program to Find the Size (Resolution) of an Image"
   ]
  },
  {
   "cell_type": "code",
   "execution_count": 73,
   "id": "f596079a",
   "metadata": {},
   "outputs": [
    {
     "name": "stdout",
     "output_type": "stream",
     "text": [
      "Image size: 850 x 1098\n"
     ]
    }
   ],
   "source": [
    "\n",
    "\n",
    "from PIL import Image\n",
    "\n",
    "# Open the image file\n",
    "image = Image.open(\"C:/Users/HP/OneDrive/Desktop/pics/-alizeh-shah.jpg\")  \n",
    "\n",
    "# Get the size (width and height) of the image\n",
    "width, height = image.size\n",
    "\n",
    "# Print the size\n",
    "print(f\"Image size: {width} x {height}\")\n"
   ]
  },
  {
   "cell_type": "markdown",
   "id": "80c220c2",
   "metadata": {},
   "source": [
    "# Merge Two Dictionaries"
   ]
  },
  {
   "cell_type": "code",
   "execution_count": 4,
   "id": "ab755d63",
   "metadata": {},
   "outputs": [
    {
     "name": "stdout",
     "output_type": "stream",
     "text": [
      "{'Peter': 92, 'Lisa': 72, 'john': 38}\n"
     ]
    }
   ],
   "source": [
    "#Solution 1\n",
    "\n",
    "dict1 = {\"Peter\":92,\"Lisa\":56}\n",
    "dict2 = {\"john\":38,\"Lisa\":72}\n",
    "\n",
    "# print (dict1|dict2)\n",
    "print ({**dict1,**dict2})\n"
   ]
  },
  {
   "cell_type": "code",
   "execution_count": 5,
   "id": "90dc86d4",
   "metadata": {},
   "outputs": [
    {
     "name": "stdout",
     "output_type": "stream",
     "text": [
      "{'Peter': 92, 'Lisa': 72, 'john': 38}\n"
     ]
    }
   ],
   "source": [
    "#Solution 2\n",
    "\n",
    "dict1 = {\"Peter\":92,\"Lisa\":56}\n",
    "dict2 = {\"john\":38,\"Lisa\":72}\n",
    "\n",
    "print ({**dict1,**dict2})"
   ]
  },
  {
   "cell_type": "code",
   "execution_count": 6,
   "id": "5aaed437",
   "metadata": {},
   "outputs": [
    {
     "name": "stdout",
     "output_type": "stream",
     "text": [
      "{'john': 38, 'Lisa': 56, 'Peter': 92}\n"
     ]
    }
   ],
   "source": [
    "#Solution 3 || copy and update method\n",
    "\n",
    "\n",
    "dict1 = {\"Peter\":92,\"Lisa\":56}\n",
    "dict2 = {\"john\":38,\"Lisa\":72}\n",
    "\n",
    "dict3 = dict2.copy()\n",
    "dict3.update(dict1)\n",
    "\n",
    "\n",
    "print(dict3)"
   ]
  },
  {
   "cell_type": "markdown",
   "id": "e4cf537e",
   "metadata": {},
   "source": [
    "# Accessing Index of List using for Loop"
   ]
  },
  {
   "cell_type": "code",
   "execution_count": 11,
   "id": "c9b8e08b",
   "metadata": {},
   "outputs": [
    {
     "name": "stdout",
     "output_type": "stream",
     "text": [
      "1 ->  23\n",
      "2 ->  12\n",
      "3 ->  17\n",
      "4 ->  84\n",
      "5 ->  46\n"
     ]
    }
   ],
   "source": [
    "\n",
    "# enumerate give us the corresponding value according to the index\n",
    "\n",
    "list = [23,12,17,84,46]\n",
    "\n",
    "for index,value in enumerate(list, start = 1): #start the value from 1 , bydefault it starts from zero\n",
    "    print(index,\"-> \",value)"
   ]
  },
  {
   "cell_type": "markdown",
   "id": "38351fc4",
   "metadata": {},
   "source": [
    "# Slicing on List"
   ]
  },
  {
   "cell_type": "code",
   "execution_count": 18,
   "id": "2b27711e",
   "metadata": {},
   "outputs": [
    {
     "name": "stdout",
     "output_type": "stream",
     "text": [
      "['Qasim', 'mansoor', 'Ali']\n",
      "zohaib\n",
      "zohaib\n",
      "['zohaib', 'Qasim', 'mansoor', 'Ali', 'Tayyab', 'shan']\n",
      "['Qasim', 'Ali', 'shan']\n",
      "['Qasim', 'mansoor', 'Ali', 'Tayyab', 'shan']\n",
      "['zohaib', 'Qasim', 'mansoor', 'Ali']\n"
     ]
    }
   ],
   "source": [
    "list = [\"zohaib\",\"Qasim\",\"mansoor\",\"Ali\",\"Tayyab\",\"shan\"]\n",
    "\n",
    "print(list[1:4])\n",
    "\n",
    "print(list[0])\n",
    "print(list[-6])\n",
    "\n",
    "print(list[::])\n",
    "print(list[1:7:2])\n",
    "print(list[1:])\n",
    "print(list[:4])"
   ]
  },
  {
   "cell_type": "markdown",
   "id": "e41a19a9",
   "metadata": {},
   "source": [
    "# Iterate Over Dictionaries Using For Loop\n"
   ]
  },
  {
   "cell_type": "code",
   "execution_count": 34,
   "id": "870526b7",
   "metadata": {},
   "outputs": [
    {
     "name": "stdout",
     "output_type": "stream",
     "text": [
      "Monica :-> Zohaib\n",
      "Ross :-> Qasim\n",
      "Richeal :-> mansoor\n",
      "chandler :-> Ali\n",
      "phoboe :-> Tayyab\n",
      "Joe :-> shan\n",
      "\n",
      "\n",
      "Qasim\n",
      "\n",
      "\n",
      "Monica :  Zohaib\n",
      "Ross :  Qasim\n",
      "Richeal :  mansoor\n",
      "chandler :  Ali\n",
      "phoboe :  Tayyab\n",
      "Joe :  shan\n",
      "\n",
      "\n",
      "Monica\n",
      "Ross\n",
      "Richeal\n",
      "chandler\n",
      "phoboe\n",
      "Joe\n",
      "\n",
      "\n",
      "Zohaib\n",
      "Qasim\n",
      "mansoor\n",
      "Ali\n",
      "Tayyab\n",
      "shan\n"
     ]
    }
   ],
   "source": [
    "friends = {\"Monica\":\"Zohaib\",\"Ross\":\"Qasim\",\"Richeal\":\"mansoor\",\"chandler\":\"Ali\",\"phoboe\":\"Tayyab\",\"Joe\":\"shan\"}\n",
    "\n",
    "for key,value in friends.items():\n",
    "    print(key,\":->\",value)\n",
    "    \n",
    "print(\"\\n\")\n",
    "print(friends[\"Ross\"])\n",
    "print(\"\\n\")\n",
    "\n",
    "for key in friends:\n",
    "    print(key,\": \",friends[key])\n",
    "    \n",
    "print(\"\\n\")\n",
    "\n",
    "for key in friends.keys():\n",
    "    print(key)\n",
    "    \n",
    "print(\"\\n\")\n",
    "\n",
    "for i in friends.values():\n",
    "    print(i)"
   ]
  },
  {
   "cell_type": "markdown",
   "id": "14cc44d9",
   "metadata": {},
   "source": [
    "# Sort a Dictionary by Value"
   ]
  },
  {
   "cell_type": "code",
   "execution_count": 39,
   "id": "a5d569fc",
   "metadata": {},
   "outputs": [
    {
     "name": "stdout",
     "output_type": "stream",
     "text": [
      "{'John': 23, 'Lisa': 56, 'sid': 48}\n",
      "hello\n",
      "\n",
      "\n",
      "[('John', 23), ('sid', 48), ('Lisa', 56)]\n",
      "[23, 48, 56]\n"
     ]
    }
   ],
   "source": [
    "marks = {\"John\":23,\"Lisa\":56,\"sid\":48}\n",
    "print(marks)\n",
    "print(\"hello\")\n",
    "print(\"\\n\")\n",
    "sv = sorted(marks.items(), key = lambda x:x[1])\n",
    "\n",
    "print(sv)\n",
    "\n",
    "# sorted only with values \n",
    "\n",
    "v = sorted(marks.values())\n",
    "print(v)"
   ]
  },
  {
   "cell_type": "markdown",
   "id": "4c17713f",
   "metadata": {},
   "source": [
    "# Check if a List is Empty in Python"
   ]
  },
  {
   "cell_type": "code",
   "execution_count": 43,
   "id": "3458617b",
   "metadata": {},
   "outputs": [
    {
     "name": "stdout",
     "output_type": "stream",
     "text": [
      "the list is not empty \n"
     ]
    }
   ],
   "source": [
    "mylist = [1]\n",
    "\n",
    "if not mylist:\n",
    "    print(\"the list is empty \")\n",
    "else :\n",
    "    print(\"the list is not empty \")"
   ]
  },
  {
   "cell_type": "code",
   "execution_count": 50,
   "id": "eb1230ac",
   "metadata": {},
   "outputs": [
    {
     "name": "stdout",
     "output_type": "stream",
     "text": [
      "3\n",
      "list is small but not empty \n"
     ]
    }
   ],
   "source": [
    "mylist = [1,4,7]\n",
    "\n",
    "print(len(mylist))\n",
    "if (len(mylist))< 5:\n",
    "    print(\"list is small but not empty \")\n",
    "if not mylist:\n",
    "    print(\"the list is empty \")\n",
    "if (len(mylist)) == 0:\n",
    "    print(\"list is empty \")\n",
    "if (len(mylist)) == []:\n",
    "    print(\"list is empty \")\n",
    "    \n"
   ]
  },
  {
   "cell_type": "markdown",
   "id": "3f95a61c",
   "metadata": {},
   "source": [
    "#  Multiple Exception Handling"
   ]
  },
  {
   "cell_type": "code",
   "execution_count": 4,
   "id": "d30da3c7",
   "metadata": {},
   "outputs": [
    {
     "name": "stdout",
     "output_type": "stream",
     "text": [
      "Enter a string hello\n",
      "Enter a number here woeks \n",
      "invalid literal for int() with base 10: 'woeks '\n"
     ]
    }
   ],
   "source": [
    "string = input(\"Enter a string \")\n",
    "\n",
    "try:\n",
    "    num = int(input(\"Enter a number here \"))\n",
    "    print(string + num)\n",
    "except (ValueError , TypeError) as a:\n",
    "    print(a)"
   ]
  },
  {
   "cell_type": "code",
   "execution_count": 8,
   "id": "50ae3f4a",
   "metadata": {},
   "outputs": [
    {
     "name": "stdout",
     "output_type": "stream",
     "text": [
      "{1, 2, 3, 4, 5, 6}\n",
      "[1, 2, 3, 4, 5, 6, 7, 8]\n"
     ]
    }
   ],
   "source": [
    "# dict only print unique values\n",
    "\n",
    "l3 = {1,2,4,5,1,2,3,6}\n",
    "print(l3)\n",
    "\n",
    "#######################\n",
    "\n",
    "l1 = [1,2,3,4]\n",
    "l2 = [5,6,7,8]\n",
    "\n",
    "l1.extend(l2)\n",
    "print(l1)"
   ]
  },
  {
   "cell_type": "markdown",
   "id": "e26a1d4b",
   "metadata": {},
   "source": [
    "# adding two lists"
   ]
  },
  {
   "cell_type": "code",
   "execution_count": 7,
   "id": "54401ee4",
   "metadata": {},
   "outputs": [
    {
     "name": "stdout",
     "output_type": "stream",
     "text": [
      "[6, 8, 10, 12]\n"
     ]
    }
   ],
   "source": [
    "list1 = [1,2,3,4]\n",
    "list2 = [5,6,7,8]\n",
    "\n",
    "result = []\n",
    "\n",
    "#check if the length of the list is same ?\n",
    "if len(list1) == len(list2):\n",
    "    for i in range(len(list1)):\n",
    "        sum_element = list1[i] + list2[i]\n",
    "        result.append(sum_element)\n",
    "        \n",
    "else:\n",
    "    print(\"list must have same length for number wise addition \")\n",
    "    \n",
    "print(result)\n"
   ]
  },
  {
   "cell_type": "markdown",
   "id": "f6a3d104",
   "metadata": {},
   "source": [
    "# key present or not "
   ]
  },
  {
   "cell_type": "code",
   "execution_count": 10,
   "id": "07cf5f50",
   "metadata": {},
   "outputs": [
    {
     "name": "stdout",
     "output_type": "stream",
     "text": [
      "Enter a key: Richeal\n",
      "Key is present \n"
     ]
    }
   ],
   "source": [
    "friends = {\"Monica\":\"Zohaib\",\"Ross\":\"Qasim\",\"Richeal\":\"mansoor\",\"chandler\":\"Ali\",\"phoboe\":\"Tayyab\",\"Joe\":\"shan\"}\n",
    "\n",
    "name = input(\"Enter a key: \")\n",
    "\n",
    "if name in friends:\n",
    "    print(\"Key is present \")\n",
    "else:\n",
    "    print(\"Key is not present \")\n",
    "    \n",
    "    "
   ]
  },
  {
   "cell_type": "code",
   "execution_count": 15,
   "id": "c9b0367e",
   "metadata": {},
   "outputs": [
    {
     "name": "stdout",
     "output_type": "stream",
     "text": [
      "['IRONMAN', 'THOR', 'HULK', 'VISION']\n"
     ]
    }
   ],
   "source": [
    "\n",
    "a = [\"ironman\",\"thor\",\"hulk\",\"vision\"]\n",
    "\n",
    "# for i in (a):\n",
    "#     print(i.upper())\n",
    "\n",
    "new_list = [i.upper() for i in a]\n",
    "print(new_list)"
   ]
  },
  {
   "cell_type": "code",
   "execution_count": 28,
   "id": "0b8684be",
   "metadata": {},
   "outputs": [
    {
     "name": "stdout",
     "output_type": "stream",
     "text": [
      "here is the list\n",
      "\n",
      "[2, 4, 6, 8, 10]\n"
     ]
    }
   ],
   "source": [
    "k = [1,2,3,4,5,6,7,8,9,10]\n",
    "emptyList = []\n",
    "for i in k :\n",
    "    if i % 2 == 0:\n",
    "        emptyList.append(i)\n",
    "        \n",
    "print(\"here is the list\\n\")        \n",
    "print(emptyList)\n"
   ]
  },
  {
   "cell_type": "code",
   "execution_count": 33,
   "id": "4702faf3",
   "metadata": {},
   "outputs": [
    {
     "name": "stdout",
     "output_type": "stream",
     "text": [
      "[0, 2, 4, 6, 8]\n"
     ]
    }
   ],
   "source": [
    "m = [i for i in range(10) if i % 2 == 0]\n",
    "print(m)"
   ]
  },
  {
   "cell_type": "code",
   "execution_count": 35,
   "id": "f491b6cd",
   "metadata": {},
   "outputs": [
    {
     "name": "stdout",
     "output_type": "stream",
     "text": [
      "Enter something here 23\n",
      "True\n"
     ]
    }
   ],
   "source": [
    "num = input(\"Enter something here \")\n",
    "\n",
    "def floatCheck(num):\n",
    "    try:\n",
    "        float(num)\n",
    "        return True\n",
    "    except:\n",
    "        return False\n",
    "    \n",
    "print(floatCheck(num))"
   ]
  },
  {
   "cell_type": "code",
   "execution_count": null,
   "id": "d9a7e53b",
   "metadata": {},
   "outputs": [],
   "source": []
  }
 ],
 "metadata": {
  "kernelspec": {
   "display_name": "Python 3 (ipykernel)",
   "language": "python",
   "name": "python3"
  },
  "language_info": {
   "codemirror_mode": {
    "name": "ipython",
    "version": 3
   },
   "file_extension": ".py",
   "mimetype": "text/x-python",
   "name": "python",
   "nbconvert_exporter": "python",
   "pygments_lexer": "ipython3",
   "version": "3.11.4"
  }
 },
 "nbformat": 4,
 "nbformat_minor": 5
}
